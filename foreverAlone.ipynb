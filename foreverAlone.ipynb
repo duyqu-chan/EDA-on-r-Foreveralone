{
  "nbformat": 4,
  "nbformat_minor": 0,
  "metadata": {
    "kernelspec": {
      "display_name": "Python 3",
      "language": "python",
      "name": "python3"
    },
    "language_info": {
      "codemirror_mode": {
        "name": "ipython",
        "version": 3
      },
      "file_extension": ".py",
      "mimetype": "text/x-python",
      "name": "python",
      "nbconvert_exporter": "python",
      "pygments_lexer": "ipython3",
      "version": "3.6.3"
    },
    "colab": {
      "name": "foreverAlone.ipynb",
      "version": "0.3.2",
      "provenance": [],
      "include_colab_link": true
    }
  },
  "cells": [
    {
      "cell_type": "markdown",
      "metadata": {
        "id": "view-in-github",
        "colab_type": "text"
      },
      "source": [
        "<a href=\"https://colab.research.google.com/github/duyqu-chan/EDA-on-r-Foreveralone/blob/master/foreverAlone.ipynb\" target=\"_parent\"><img src=\"https://colab.research.google.com/assets/colab-badge.svg\" alt=\"Open In Colab\"/></a>"
      ]
    },
    {
      "cell_type": "markdown",
      "metadata": {
        "collapsed": true,
        "id": "2pYR7f0Q8AeC",
        "colab_type": "text"
      },
      "source": [
        "# Explanatory Data Analysis on Forever Alone Data Set"
      ]
    },
    {
      "cell_type": "markdown",
      "metadata": {
        "id": "EnSFYxaM8AeE",
        "colab_type": "text"
      },
      "source": [
        "## Introduction"
      ]
    },
    {
      "cell_type": "markdown",
      "metadata": {
        "id": "miSqU91A8AeF",
        "colab_type": "text"
      },
      "source": [
        "In 2016 a redditor created a survey to collect demographic data on the subreddit [/r/ForeverAlone](\"https://www.reddit.com/r/ForeverAlone/\"). Then they have deleted their account but the data set remained. It can be accessible from [here](\"https://docs.google.com/spreadsheets/d/1-RHfT3xVxaUBJlQR32XBYniQakOntRkiKjJJmVbwvns/edit#gid=679156670\") in Google spreadsheet form or from [here](\"https://www.kaggle.com/kingburrito666/the-demographic-rforeveralone-dataset/downloads/foreveralone.csv\") in _csv_ format. According to [Urban Dictionary](\"https://www.urbandictionary.com/\"), the slang phrase _Forever Alone_ is used for people who are so incompatible with the rest of the humanity that no one will ever date with them, in other words they define themselves as the loneliest people of the lonely planet. \n",
        "\n",
        "The self-assesment test consists of various interesting questions, listed below.\n",
        "\n",
        "+ Timestamp (Date and time)\n",
        "+ What is your gender?\n",
        "+ How old are you?\n",
        "+ What is your level of income?\n",
        "+ What is your race?\n",
        "+ How would you describe your body/weight?\n",
        "+ Are you a virgin?\n",
        "+ Is prostitution legal where you live?\n",
        "+ Would you pay for sex?\n",
        "+ How many friends do you have IRL (i.e. in real life)?\n",
        "+ Do you have social anxiety/phobia?\n",
        "+ Are you depressed?\n",
        "+ What kind of help do you want from others? (Choose all that apply)\n",
        "+ Have you attempted suicide?\n",
        "+ Employment Status: Are you currently…?\n",
        "+ What is your job title?\n",
        "+ What is your level of education?\n",
        "+ What have you done to try and improve yourself? (Check all that apply)\n",
        "\n",
        "Notice that some of the questions are related to subject's self- perception and the others are reveals information about social status and psychological condition of the person of interest. This demographic data set is especially interesting for me because it combines individual's social competition, sexual selection and self-perception in one basket. Through explanatory data analysis it is possible to find significant relation between those features. For example level of education and income or bodyweight and virginity. Furthermore, we could predict suide commitment tendency, etc.\n",
        "    \n",
        "\n",
        "\n"
      ]
    },
    {
      "cell_type": "markdown",
      "metadata": {
        "id": "KRtaBvHc8AeG",
        "colab_type": "text"
      },
      "source": [
        "Import required libraries, first."
      ]
    },
    {
      "cell_type": "code",
      "metadata": {
        "id": "37P8q5oX8AeH",
        "colab_type": "code",
        "colab": {}
      },
      "source": [
        "import pandas as pd\n",
        "import numpy as np\n",
        "import matplotlib.pyplot as plt \n",
        "import seaborn as sns"
      ],
      "execution_count": 0,
      "outputs": []
    },
    {
      "cell_type": "markdown",
      "metadata": {
        "id": "vSmRoEYW8AeO",
        "colab_type": "text"
      },
      "source": [
        "Read the data"
      ]
    },
    {
      "cell_type": "code",
      "metadata": {
        "id": "Y76Hh59w8AeR",
        "colab_type": "code",
        "colab": {},
        "outputId": "071110a0-2c8f-435c-88a0-48d9ec323109"
      },
      "source": [
        "df = pd.read_csv(\"foreveralone.csv\")\n",
        "df.head()"
      ],
      "execution_count": 0,
      "outputs": [
        {
          "output_type": "execute_result",
          "data": {
            "text/html": [
              "<div>\n",
              "<style scoped>\n",
              "    .dataframe tbody tr th:only-of-type {\n",
              "        vertical-align: middle;\n",
              "    }\n",
              "\n",
              "    .dataframe tbody tr th {\n",
              "        vertical-align: top;\n",
              "    }\n",
              "\n",
              "    .dataframe thead th {\n",
              "        text-align: right;\n",
              "    }\n",
              "</style>\n",
              "<table border=\"1\" class=\"dataframe\">\n",
              "  <thead>\n",
              "    <tr style=\"text-align: right;\">\n",
              "      <th></th>\n",
              "      <th>time</th>\n",
              "      <th>gender</th>\n",
              "      <th>sexuallity</th>\n",
              "      <th>age</th>\n",
              "      <th>income</th>\n",
              "      <th>race</th>\n",
              "      <th>bodyweight</th>\n",
              "      <th>virgin</th>\n",
              "      <th>prostitution_legal</th>\n",
              "      <th>pay_for_sex</th>\n",
              "      <th>friends</th>\n",
              "      <th>social_fear</th>\n",
              "      <th>depressed</th>\n",
              "      <th>what_help_from_others</th>\n",
              "      <th>attempt_suicide</th>\n",
              "      <th>employment</th>\n",
              "      <th>job_title</th>\n",
              "      <th>edu_level</th>\n",
              "      <th>improve_yourself_how</th>\n",
              "    </tr>\n",
              "  </thead>\n",
              "  <tbody>\n",
              "    <tr>\n",
              "      <th>0</th>\n",
              "      <td>5/17/2016 20:04:18</td>\n",
              "      <td>Male</td>\n",
              "      <td>Straight</td>\n",
              "      <td>35</td>\n",
              "      <td>$30,000 to $39,999</td>\n",
              "      <td>White non-Hispanic</td>\n",
              "      <td>Normal weight</td>\n",
              "      <td>Yes</td>\n",
              "      <td>No</td>\n",
              "      <td>No</td>\n",
              "      <td>0.0</td>\n",
              "      <td>Yes</td>\n",
              "      <td>Yes</td>\n",
              "      <td>wingman/wingwoman, Set me up with a date</td>\n",
              "      <td>Yes</td>\n",
              "      <td>Employed for wages</td>\n",
              "      <td>mechanical drafter</td>\n",
              "      <td>Associate degree</td>\n",
              "      <td>None</td>\n",
              "    </tr>\n",
              "    <tr>\n",
              "      <th>1</th>\n",
              "      <td>5/17/2016 20:04:30</td>\n",
              "      <td>Male</td>\n",
              "      <td>Bisexual</td>\n",
              "      <td>21</td>\n",
              "      <td>$1 to $10,000</td>\n",
              "      <td>White non-Hispanic</td>\n",
              "      <td>Underweight</td>\n",
              "      <td>Yes</td>\n",
              "      <td>No</td>\n",
              "      <td>No</td>\n",
              "      <td>0.0</td>\n",
              "      <td>Yes</td>\n",
              "      <td>Yes</td>\n",
              "      <td>wingman/wingwoman, Set me up with a date, date...</td>\n",
              "      <td>No</td>\n",
              "      <td>Out of work and looking for work</td>\n",
              "      <td>-</td>\n",
              "      <td>Some college, no degree</td>\n",
              "      <td>join clubs/socual clubs/meet ups</td>\n",
              "    </tr>\n",
              "    <tr>\n",
              "      <th>2</th>\n",
              "      <td>5/17/2016 20:04:58</td>\n",
              "      <td>Male</td>\n",
              "      <td>Straight</td>\n",
              "      <td>22</td>\n",
              "      <td>$0</td>\n",
              "      <td>White non-Hispanic</td>\n",
              "      <td>Overweight</td>\n",
              "      <td>Yes</td>\n",
              "      <td>No</td>\n",
              "      <td>No</td>\n",
              "      <td>10.0</td>\n",
              "      <td>Yes</td>\n",
              "      <td>Yes</td>\n",
              "      <td>I don't want help</td>\n",
              "      <td>No</td>\n",
              "      <td>Out of work but not currently looking for work</td>\n",
              "      <td>unemployed</td>\n",
              "      <td>Some college, no degree</td>\n",
              "      <td>Other exercise</td>\n",
              "    </tr>\n",
              "    <tr>\n",
              "      <th>3</th>\n",
              "      <td>5/17/2016 20:08:01</td>\n",
              "      <td>Male</td>\n",
              "      <td>Straight</td>\n",
              "      <td>19</td>\n",
              "      <td>$1 to $10,000</td>\n",
              "      <td>White non-Hispanic</td>\n",
              "      <td>Overweight</td>\n",
              "      <td>Yes</td>\n",
              "      <td>Yes</td>\n",
              "      <td>No</td>\n",
              "      <td>8.0</td>\n",
              "      <td>Yes</td>\n",
              "      <td>Yes</td>\n",
              "      <td>date coaching</td>\n",
              "      <td>No</td>\n",
              "      <td>A student</td>\n",
              "      <td>student</td>\n",
              "      <td>Some college, no degree</td>\n",
              "      <td>Joined a gym/go to the gym</td>\n",
              "    </tr>\n",
              "    <tr>\n",
              "      <th>4</th>\n",
              "      <td>5/17/2016 20:08:04</td>\n",
              "      <td>Male</td>\n",
              "      <td>Straight</td>\n",
              "      <td>23</td>\n",
              "      <td>$30,000 to $39,999</td>\n",
              "      <td>White non-Hispanic</td>\n",
              "      <td>Overweight</td>\n",
              "      <td>No</td>\n",
              "      <td>No</td>\n",
              "      <td>Yes and I have</td>\n",
              "      <td>10.0</td>\n",
              "      <td>No</td>\n",
              "      <td>Yes</td>\n",
              "      <td>I don't want help</td>\n",
              "      <td>No</td>\n",
              "      <td>Employed for wages</td>\n",
              "      <td>Factory worker</td>\n",
              "      <td>High school graduate, diploma or the equivalen...</td>\n",
              "      <td>None</td>\n",
              "    </tr>\n",
              "  </tbody>\n",
              "</table>\n",
              "</div>"
            ],
            "text/plain": [
              "                 time gender sexuallity  age              income  \\\n",
              "0  5/17/2016 20:04:18   Male   Straight   35  $30,000 to $39,999   \n",
              "1  5/17/2016 20:04:30   Male   Bisexual   21       $1 to $10,000   \n",
              "2  5/17/2016 20:04:58   Male   Straight   22                  $0   \n",
              "3  5/17/2016 20:08:01   Male   Straight   19       $1 to $10,000   \n",
              "4  5/17/2016 20:08:04   Male   Straight   23  $30,000 to $39,999   \n",
              "\n",
              "                 race     bodyweight virgin prostitution_legal  \\\n",
              "0  White non-Hispanic  Normal weight    Yes                 No   \n",
              "1  White non-Hispanic    Underweight    Yes                 No   \n",
              "2  White non-Hispanic     Overweight    Yes                 No   \n",
              "3  White non-Hispanic     Overweight    Yes                Yes   \n",
              "4  White non-Hispanic     Overweight     No                 No   \n",
              "\n",
              "      pay_for_sex  friends social_fear depressed  \\\n",
              "0              No      0.0         Yes       Yes   \n",
              "1              No      0.0         Yes       Yes   \n",
              "2              No     10.0         Yes       Yes   \n",
              "3              No      8.0         Yes       Yes   \n",
              "4  Yes and I have     10.0          No       Yes   \n",
              "\n",
              "                               what_help_from_others attempt_suicide  \\\n",
              "0           wingman/wingwoman, Set me up with a date             Yes   \n",
              "1  wingman/wingwoman, Set me up with a date, date...              No   \n",
              "2                                  I don't want help              No   \n",
              "3                                      date coaching              No   \n",
              "4                                  I don't want help              No   \n",
              "\n",
              "                                       employment           job_title  \\\n",
              "0                              Employed for wages  mechanical drafter   \n",
              "1                Out of work and looking for work                   -   \n",
              "2  Out of work but not currently looking for work          unemployed   \n",
              "3                                       A student             student   \n",
              "4                              Employed for wages      Factory worker   \n",
              "\n",
              "                                           edu_level  \\\n",
              "0                                   Associate degree   \n",
              "1                            Some college, no degree   \n",
              "2                            Some college, no degree   \n",
              "3                            Some college, no degree   \n",
              "4  High school graduate, diploma or the equivalen...   \n",
              "\n",
              "               improve_yourself_how  \n",
              "0                              None  \n",
              "1  join clubs/socual clubs/meet ups  \n",
              "2                    Other exercise  \n",
              "3        Joined a gym/go to the gym  \n",
              "4                              None  "
            ]
          },
          "metadata": {
            "tags": []
          },
          "execution_count": 177
        }
      ]
    },
    {
      "cell_type": "code",
      "metadata": {
        "id": "8i31oNwg8Aei",
        "colab_type": "code",
        "colab": {},
        "outputId": "7ea08f69-a8bb-4140-f24c-804bfadab89e"
      },
      "source": [
        "df.shape"
      ],
      "execution_count": 0,
      "outputs": [
        {
          "output_type": "execute_result",
          "data": {
            "text/plain": [
              "(469, 19)"
            ]
          },
          "metadata": {
            "tags": []
          },
          "execution_count": 178
        }
      ]
    },
    {
      "cell_type": "markdown",
      "metadata": {
        "id": "ZW1U4KRy8Aet",
        "colab_type": "text"
      },
      "source": [
        "There are 19 columns each corresponding a question, for the responses of 469 subjects in this set."
      ]
    },
    {
      "cell_type": "markdown",
      "metadata": {
        "id": "ZsIPs-3m8Aex",
        "colab_type": "text"
      },
      "source": [
        "I start by cleaning the NA values first"
      ]
    },
    {
      "cell_type": "code",
      "metadata": {
        "id": "O3SpWCpN8Aey",
        "colab_type": "code",
        "colab": {},
        "outputId": "e0981d86-8ca4-44bb-86d3-db1c46c7818b"
      },
      "source": [
        "df=df.dropna()\n",
        "df.shape"
      ],
      "execution_count": 0,
      "outputs": [
        {
          "output_type": "execute_result",
          "data": {
            "text/plain": [
              "(457, 19)"
            ]
          },
          "metadata": {
            "tags": []
          },
          "execution_count": 179
        }
      ]
    },
    {
      "cell_type": "markdown",
      "metadata": {
        "id": "80-r3goU8Ae4",
        "colab_type": "text"
      },
      "source": [
        "There were only 12 NA values coming from job title column. Since rows with NAs are small in number, by omitting them we do not loose information very much."
      ]
    },
    {
      "cell_type": "markdown",
      "metadata": {
        "id": "UlA4elbH8Ae5",
        "colab_type": "text"
      },
      "source": [
        "Let's list the descriptive statistics of numerical values in the set."
      ]
    },
    {
      "cell_type": "code",
      "metadata": {
        "id": "-xJDpJYh8Ae6",
        "colab_type": "code",
        "colab": {},
        "outputId": "6189bf14-5602-43fe-995e-817654a329a0"
      },
      "source": [
        "df.describe()"
      ],
      "execution_count": 0,
      "outputs": [
        {
          "output_type": "execute_result",
          "data": {
            "text/html": [
              "<div>\n",
              "<style scoped>\n",
              "    .dataframe tbody tr th:only-of-type {\n",
              "        vertical-align: middle;\n",
              "    }\n",
              "\n",
              "    .dataframe tbody tr th {\n",
              "        vertical-align: top;\n",
              "    }\n",
              "\n",
              "    .dataframe thead th {\n",
              "        text-align: right;\n",
              "    }\n",
              "</style>\n",
              "<table border=\"1\" class=\"dataframe\">\n",
              "  <thead>\n",
              "    <tr style=\"text-align: right;\">\n",
              "      <th></th>\n",
              "      <th>age</th>\n",
              "      <th>friends</th>\n",
              "    </tr>\n",
              "  </thead>\n",
              "  <tbody>\n",
              "    <tr>\n",
              "      <th>count</th>\n",
              "      <td>457.000000</td>\n",
              "      <td>457.000000</td>\n",
              "    </tr>\n",
              "    <tr>\n",
              "      <th>mean</th>\n",
              "      <td>24.032823</td>\n",
              "      <td>8.091247</td>\n",
              "    </tr>\n",
              "    <tr>\n",
              "      <th>std</th>\n",
              "      <td>6.045969</td>\n",
              "      <td>34.804727</td>\n",
              "    </tr>\n",
              "    <tr>\n",
              "      <th>min</th>\n",
              "      <td>12.000000</td>\n",
              "      <td>0.000000</td>\n",
              "    </tr>\n",
              "    <tr>\n",
              "      <th>25%</th>\n",
              "      <td>20.000000</td>\n",
              "      <td>1.000000</td>\n",
              "    </tr>\n",
              "    <tr>\n",
              "      <th>50%</th>\n",
              "      <td>23.000000</td>\n",
              "      <td>3.000000</td>\n",
              "    </tr>\n",
              "    <tr>\n",
              "      <th>75%</th>\n",
              "      <td>26.000000</td>\n",
              "      <td>7.000000</td>\n",
              "    </tr>\n",
              "    <tr>\n",
              "      <th>max</th>\n",
              "      <td>70.000000</td>\n",
              "      <td>600.000000</td>\n",
              "    </tr>\n",
              "  </tbody>\n",
              "</table>\n",
              "</div>"
            ],
            "text/plain": [
              "              age     friends\n",
              "count  457.000000  457.000000\n",
              "mean    24.032823    8.091247\n",
              "std      6.045969   34.804727\n",
              "min     12.000000    0.000000\n",
              "25%     20.000000    1.000000\n",
              "50%     23.000000    3.000000\n",
              "75%     26.000000    7.000000\n",
              "max     70.000000  600.000000"
            ]
          },
          "metadata": {
            "tags": []
          },
          "execution_count": 180
        }
      ]
    },
    {
      "cell_type": "markdown",
      "metadata": {
        "id": "d325My5e8Ae_",
        "colab_type": "text"
      },
      "source": [
        "Age and number of friends in real life have skewed distributions due to outliers. We can understand it by looking at the table above. Especially for IRL friend number, mean value is  drastically different than the median value."
      ]
    },
    {
      "cell_type": "markdown",
      "metadata": {
        "id": "CfZQXnih8AfA",
        "colab_type": "text"
      },
      "source": [
        "### Suicide Attempt "
      ]
    },
    {
      "cell_type": "code",
      "metadata": {
        "id": "nnLXPHMa8AfB",
        "colab_type": "code",
        "colab": {},
        "outputId": "32acbd92-1f26-47dd-fd35-f9aa2048423e"
      },
      "source": [
        "gridkw = dict(height_ratios=[10, 2])\n",
        "fig, (ax1, ax2) = plt.subplots(2, 1, gridspec_kw=gridkw)\n",
        "#plt.ylabel('Count')\n",
        "sns.distplot(df.loc[:,'age'], ax=ax1).set_title(\"Age Distribution\")#array, top subplot\n",
        "\n",
        "sns.boxplot(df.loc[:,'age'], ax=ax2, width=.4) #bottom subplot\n",
        "\n",
        "plt.show()"
      ],
      "execution_count": 0,
      "outputs": [
        {
          "output_type": "display_data",
          "data": {
            "image/png": "[encoded data removed]",
            "text/plain": [
              "<matplotlib.figure.Figure at 0x30fd8320f0>"
            ]
          },
          "metadata": {
            "tags": []
          }
        }
      ]
    },
    {
      "cell_type": "markdown",
      "metadata": {
        "id": "4gMocOMW8AfG",
        "colab_type": "text"
      },
      "source": [
        "The youngest redditer in this survey is 12 years old and the oldest is 70. IQR is in between 20 and 26. There are 12 outliers.  Since age has positively skewed distribution, median is better statistic to define this sample. So we can treat age of a common redditer in /r/ForeverAlone as 23."
      ]
    },
    {
      "cell_type": "code",
      "metadata": {
        "id": "uXv8kv8C8AfH",
        "colab_type": "code",
        "colab": {},
        "outputId": "851f5713-ac49-4ac4-8cc9-39f246469f29"
      },
      "source": [
        "gridkw = dict(height_ratios=[10, 2])\n",
        "fig, (ax1, ax2) = plt.subplots(2, 1, gridspec_kw=gridkw)\n",
        "#plt.ylabel('Count')\n",
        "sns.distplot(df.loc[:,'friends'],ax=ax1).set_title(\"Number of Friends IRL Distribution\")#array, top subplot\n",
        "sns.boxplot(df.loc[:,'friends'], ax=ax2) #bottom subplot\n",
        "plt.show()"
      ],
      "execution_count": 0,
      "outputs": [
        {
          "output_type": "display_data",
          "data": {
            "image/png": "[encoded data removed]",
            "text/plain": [
              "<matplotlib.figure.Figure at 0x30fdc620f0>"
            ]
          },
          "metadata": {
            "tags": []
          }
        }
      ]
    },
    {
      "cell_type": "markdown",
      "metadata": {
        "id": "SmQDKPLn8AfO",
        "colab_type": "text"
      },
      "source": [
        "The loneliest redditer has zero friends in real life. This is more skewed distributian than age. Even median line is out of the box that defines IQR. It's hard to catch from graph by eye but there seems more outliers. Interestingly, there are some respondents who claims to have several hundreds of friends IRL. If reality is what they claimed, I do not understand why they contribute to /r/ForeverAlone subreddit. May be they are just trolling the survey."
      ]
    },
    {
      "cell_type": "code",
      "metadata": {
        "id": "kDt--EEC8AfQ",
        "colab_type": "code",
        "colab": {},
        "outputId": "772f61bc-6474-47ae-fab0-64f6c86e4868"
      },
      "source": [
        "sns.boxplot(df.loc[:,'friends']) #bottom subplot"
      ],
      "execution_count": 0,
      "outputs": [
        {
          "output_type": "execute_result",
          "data": {
            "text/plain": [
              "<matplotlib.axes._subplots.AxesSubplot at 0x30fd832160>"
            ]
          },
          "metadata": {
            "tags": []
          },
          "execution_count": 183
        },
        {
          "output_type": "display_data",
          "data": {
            "image/png": "[encoded data removed]",
            "text/plain": [
              "<matplotlib.figure.Figure at 0x30fd90d908>"
            ]
          },
          "metadata": {
            "tags": []
          }
        }
      ]
    },
    {
      "cell_type": "code",
      "metadata": {
        "id": "8fsqQVCZ8Afb",
        "colab_type": "code",
        "colab": {},
        "outputId": "ced1d7b7-6b7e-4dc1-99dc-4e0ed48b3a12"
      },
      "source": [
        "df.pivot_table(['age','friends'], ['attempt_suicide'], aggfunc='mean')"
      ],
      "execution_count": 0,
      "outputs": [
        {
          "output_type": "execute_result",
          "data": {
            "text/html": [
              "<div>\n",
              "<style scoped>\n",
              "    .dataframe tbody tr th:only-of-type {\n",
              "        vertical-align: middle;\n",
              "    }\n",
              "\n",
              "    .dataframe tbody tr th {\n",
              "        vertical-align: top;\n",
              "    }\n",
              "\n",
              "    .dataframe thead th {\n",
              "        text-align: right;\n",
              "    }\n",
              "</style>\n",
              "<table border=\"1\" class=\"dataframe\">\n",
              "  <thead>\n",
              "    <tr style=\"text-align: right;\">\n",
              "      <th></th>\n",
              "      <th>age</th>\n",
              "      <th>friends</th>\n",
              "    </tr>\n",
              "    <tr>\n",
              "      <th>attempt_suicide</th>\n",
              "      <th></th>\n",
              "      <th></th>\n",
              "    </tr>\n",
              "  </thead>\n",
              "  <tbody>\n",
              "    <tr>\n",
              "      <th>No</th>\n",
              "      <td>23.983871</td>\n",
              "      <td>9.078495</td>\n",
              "    </tr>\n",
              "    <tr>\n",
              "      <th>Yes</th>\n",
              "      <td>24.247059</td>\n",
              "      <td>3.770588</td>\n",
              "    </tr>\n",
              "  </tbody>\n",
              "</table>\n",
              "</div>"
            ],
            "text/plain": [
              "                       age   friends\n",
              "attempt_suicide                     \n",
              "No               23.983871  9.078495\n",
              "Yes              24.247059  3.770588"
            ]
          },
          "metadata": {
            "tags": []
          },
          "execution_count": 184
        }
      ]
    },
    {
      "cell_type": "markdown",
      "metadata": {
        "id": "Zr78GeFb8Afm",
        "colab_type": "text"
      },
      "source": [
        "As seen from the table above suicidal redditters do not differ in age very much but they do differ on the basis of number of friends IRL. Socially isolated people tend to attempt suicide more."
      ]
    },
    {
      "cell_type": "markdown",
      "metadata": {
        "id": "8VtriAv38Afo",
        "colab_type": "text"
      },
      "source": [
        "Let's list the column names of the categorical variables"
      ]
    },
    {
      "cell_type": "code",
      "metadata": {
        "id": "KjS3mqge8Afr",
        "colab_type": "code",
        "colab": {},
        "outputId": "c085202f-2578-40bd-8940-fc17c40990ac"
      },
      "source": [
        "categorical = df.dtypes[df.dtypes == \"object\"].index \n",
        "df[categorical].describe()\n"
      ],
      "execution_count": 0,
      "outputs": [
        {
          "output_type": "execute_result",
          "data": {
            "text/html": [
              "<div>\n",
              "<style scoped>\n",
              "    .dataframe tbody tr th:only-of-type {\n",
              "        vertical-align: middle;\n",
              "    }\n",
              "\n",
              "    .dataframe tbody tr th {\n",
              "        vertical-align: top;\n",
              "    }\n",
              "\n",
              "    .dataframe thead th {\n",
              "        text-align: right;\n",
              "    }\n",
              "</style>\n",
              "<table border=\"1\" class=\"dataframe\">\n",
              "  <thead>\n",
              "    <tr style=\"text-align: right;\">\n",
              "      <th></th>\n",
              "      <th>time</th>\n",
              "      <th>gender</th>\n",
              "      <th>sexuallity</th>\n",
              "      <th>income</th>\n",
              "      <th>race</th>\n",
              "      <th>bodyweight</th>\n",
              "      <th>virgin</th>\n",
              "      <th>prostitution_legal</th>\n",
              "      <th>pay_for_sex</th>\n",
              "      <th>social_fear</th>\n",
              "      <th>depressed</th>\n",
              "      <th>what_help_from_others</th>\n",
              "      <th>attempt_suicide</th>\n",
              "      <th>employment</th>\n",
              "      <th>job_title</th>\n",
              "      <th>edu_level</th>\n",
              "      <th>improve_yourself_how</th>\n",
              "    </tr>\n",
              "  </thead>\n",
              "  <tbody>\n",
              "    <tr>\n",
              "      <th>count</th>\n",
              "      <td>457</td>\n",
              "      <td>457</td>\n",
              "      <td>457</td>\n",
              "      <td>457</td>\n",
              "      <td>457</td>\n",
              "      <td>457</td>\n",
              "      <td>457</td>\n",
              "      <td>457</td>\n",
              "      <td>457</td>\n",
              "      <td>457</td>\n",
              "      <td>457</td>\n",
              "      <td>457</td>\n",
              "      <td>457</td>\n",
              "      <td>457</td>\n",
              "      <td>457</td>\n",
              "      <td>457</td>\n",
              "      <td>457</td>\n",
              "    </tr>\n",
              "    <tr>\n",
              "      <th>unique</th>\n",
              "      <td>456</td>\n",
              "      <td>4</td>\n",
              "      <td>3</td>\n",
              "      <td>13</td>\n",
              "      <td>23</td>\n",
              "      <td>4</td>\n",
              "      <td>2</td>\n",
              "      <td>2</td>\n",
              "      <td>3</td>\n",
              "      <td>2</td>\n",
              "      <td>2</td>\n",
              "      <td>50</td>\n",
              "      <td>2</td>\n",
              "      <td>9</td>\n",
              "      <td>275</td>\n",
              "      <td>9</td>\n",
              "      <td>61</td>\n",
              "    </tr>\n",
              "    <tr>\n",
              "      <th>top</th>\n",
              "      <td>5/18/2016 7:41:18</td>\n",
              "      <td>Male</td>\n",
              "      <td>Straight</td>\n",
              "      <td>$0</td>\n",
              "      <td>White non-Hispanic</td>\n",
              "      <td>Normal weight</td>\n",
              "      <td>Yes</td>\n",
              "      <td>No</td>\n",
              "      <td>No</td>\n",
              "      <td>Yes</td>\n",
              "      <td>Yes</td>\n",
              "      <td>I don't want help</td>\n",
              "      <td>No</td>\n",
              "      <td>Employed for wages</td>\n",
              "      <td>Student</td>\n",
              "      <td>Some college, no degree</td>\n",
              "      <td>None</td>\n",
              "    </tr>\n",
              "    <tr>\n",
              "      <th>freq</th>\n",
              "      <td>2</td>\n",
              "      <td>382</td>\n",
              "      <td>404</td>\n",
              "      <td>150</td>\n",
              "      <td>328</td>\n",
              "      <td>265</td>\n",
              "      <td>342</td>\n",
              "      <td>353</td>\n",
              "      <td>312</td>\n",
              "      <td>297</td>\n",
              "      <td>303</td>\n",
              "      <td>216</td>\n",
              "      <td>372</td>\n",
              "      <td>171</td>\n",
              "      <td>50</td>\n",
              "      <td>131</td>\n",
              "      <td>101</td>\n",
              "    </tr>\n",
              "  </tbody>\n",
              "</table>\n",
              "</div>"
            ],
            "text/plain": [
              "                     time gender sexuallity income                race  \\\n",
              "count                 457    457        457    457                 457   \n",
              "unique                456      4          3     13                  23   \n",
              "top     5/18/2016 7:41:18   Male   Straight     $0  White non-Hispanic   \n",
              "freq                    2    382        404    150                 328   \n",
              "\n",
              "           bodyweight virgin prostitution_legal pay_for_sex social_fear  \\\n",
              "count             457    457                457         457         457   \n",
              "unique              4      2                  2           3           2   \n",
              "top     Normal weight    Yes                 No          No         Yes   \n",
              "freq              265    342                353         312         297   \n",
              "\n",
              "       depressed what_help_from_others attempt_suicide          employment  \\\n",
              "count        457                   457             457                 457   \n",
              "unique         2                    50               2                   9   \n",
              "top          Yes     I don't want help              No  Employed for wages   \n",
              "freq         303                   216             372                 171   \n",
              "\n",
              "       job_title                edu_level improve_yourself_how  \n",
              "count        457                      457                  457  \n",
              "unique       275                        9                   61  \n",
              "top      Student  Some college, no degree                 None  \n",
              "freq          50                      131                  101  "
            ]
          },
          "metadata": {
            "tags": []
          },
          "execution_count": 185
        }
      ]
    },
    {
      "cell_type": "markdown",
      "metadata": {
        "id": "GZasXzhV8Af3",
        "colab_type": "text"
      },
      "source": [
        "There are four gender types including transgenders but out of 457 respondent 382 of them are male and 404 define thelselves as straight. White non-hispanics dominates the set with a number of 328. Interestingyly most of the people (342) in the set are virgins. 353 people live where prostitution is illegal and 312 of 457 people do not prefer to pay for sex. Unfortunatel 297 belives that they developed some kind of social anxiety and 303 respondent feel depressed. Although this is a very heartbreaking subset of humanity, nearly half (216) of the do not want help from others."
      ]
    },
    {
      "cell_type": "markdown",
      "metadata": {
        "id": "cLo5BqlV8Af5",
        "colab_type": "text"
      },
      "source": [
        "### Binary Categorical Variables and Income\n",
        "\n",
        "Let's convert  columns with Yes/No answers to 1/0 to describe them numerically better. Additionally, income ranges are converted to their mean values. Since there is no upper bound for  . "
      ]
    },
    {
      "cell_type": "code",
      "metadata": {
        "id": "Pj2YsYMD8Af7",
        "colab_type": "code",
        "colab": {},
        "outputId": "923cea5c-8d02-4c47-c1ab-26213e20c48d"
      },
      "source": [
        "df_converted=pd.read_csv(\"foreveralone.csv\") #re-read is needed because setting df_converted=df changes the str. of df, too.\n",
        "df_converted.dropna()\n",
        "df_converted.virgin.replace(('Yes', 'No'), (1, 0), inplace=True)\n",
        "df_converted.prostitution_legal.replace(('Yes', 'No'), (1, 0), inplace=True)\n",
        "df_converted.social_fear.replace(('Yes', 'No'), (1, 0), inplace=True)\n",
        "df_converted.attempt_suicide.replace(('Yes', 'No'), (1, 0), inplace=True)\n",
        "df_converted.depressed.replace(('Yes', 'No'), (1, 0), inplace=True)\n",
        "df_converted.income.replace(('$0', '$1 to $10,000','$10,000 to $19,999','$20,000 to $29,999','$30,000 to $39,999','$40,000 to $49,999','$50,000 to $74,999','$75,000 to $99,999',\"$100,000 to $124,999\",\"$125,000 to $149,999\",\"$150,000 to $174,999\", \"$174,999 to $199,999\", '$200,000 or more'), (0, 5000, 15000, 25000, 35000, 45000, 62500, 87500, 112500, 137500, 162500, 187500, 200000), inplace=True)\n",
        "df_converted.describe()"
      ],
      "execution_count": 0,
      "outputs": [
        {
          "output_type": "execute_result",
          "data": {
            "text/html": [
              "<div>\n",
              "<style scoped>\n",
              "    .dataframe tbody tr th:only-of-type {\n",
              "        vertical-align: middle;\n",
              "    }\n",
              "\n",
              "    .dataframe tbody tr th {\n",
              "        vertical-align: top;\n",
              "    }\n",
              "\n",
              "    .dataframe thead th {\n",
              "        text-align: right;\n",
              "    }\n",
              "</style>\n",
              "<table border=\"1\" class=\"dataframe\">\n",
              "  <thead>\n",
              "    <tr style=\"text-align: right;\">\n",
              "      <th></th>\n",
              "      <th>age</th>\n",
              "      <th>income</th>\n",
              "      <th>virgin</th>\n",
              "      <th>prostitution_legal</th>\n",
              "      <th>friends</th>\n",
              "      <th>social_fear</th>\n",
              "      <th>depressed</th>\n",
              "      <th>attempt_suicide</th>\n",
              "    </tr>\n",
              "  </thead>\n",
              "  <tbody>\n",
              "    <tr>\n",
              "      <th>count</th>\n",
              "      <td>469.000000</td>\n",
              "      <td>469.000000</td>\n",
              "      <td>469.000000</td>\n",
              "      <td>469.000000</td>\n",
              "      <td>469.000000</td>\n",
              "      <td>469.000000</td>\n",
              "      <td>469.000000</td>\n",
              "      <td>469.000000</td>\n",
              "    </tr>\n",
              "    <tr>\n",
              "      <th>mean</th>\n",
              "      <td>23.963753</td>\n",
              "      <td>19946.695096</td>\n",
              "      <td>0.750533</td>\n",
              "      <td>0.230277</td>\n",
              "      <td>7.956716</td>\n",
              "      <td>0.656716</td>\n",
              "      <td>0.665245</td>\n",
              "      <td>0.181237</td>\n",
              "    </tr>\n",
              "    <tr>\n",
              "      <th>std</th>\n",
              "      <td>6.023526</td>\n",
              "      <td>31671.260375</td>\n",
              "      <td>0.433167</td>\n",
              "      <td>0.421460</td>\n",
              "      <td>34.371500</td>\n",
              "      <td>0.475312</td>\n",
              "      <td>0.472409</td>\n",
              "      <td>0.385625</td>\n",
              "    </tr>\n",
              "    <tr>\n",
              "      <th>min</th>\n",
              "      <td>12.000000</td>\n",
              "      <td>0.000000</td>\n",
              "      <td>0.000000</td>\n",
              "      <td>0.000000</td>\n",
              "      <td>0.000000</td>\n",
              "      <td>0.000000</td>\n",
              "      <td>0.000000</td>\n",
              "      <td>0.000000</td>\n",
              "    </tr>\n",
              "    <tr>\n",
              "      <th>25%</th>\n",
              "      <td>20.000000</td>\n",
              "      <td>0.000000</td>\n",
              "      <td>1.000000</td>\n",
              "      <td>0.000000</td>\n",
              "      <td>1.000000</td>\n",
              "      <td>0.000000</td>\n",
              "      <td>0.000000</td>\n",
              "      <td>0.000000</td>\n",
              "    </tr>\n",
              "    <tr>\n",
              "      <th>50%</th>\n",
              "      <td>23.000000</td>\n",
              "      <td>5000.000000</td>\n",
              "      <td>1.000000</td>\n",
              "      <td>0.000000</td>\n",
              "      <td>3.000000</td>\n",
              "      <td>1.000000</td>\n",
              "      <td>1.000000</td>\n",
              "      <td>0.000000</td>\n",
              "    </tr>\n",
              "    <tr>\n",
              "      <th>75%</th>\n",
              "      <td>26.000000</td>\n",
              "      <td>25000.000000</td>\n",
              "      <td>1.000000</td>\n",
              "      <td>0.000000</td>\n",
              "      <td>7.000000</td>\n",
              "      <td>1.000000</td>\n",
              "      <td>1.000000</td>\n",
              "      <td>0.000000</td>\n",
              "    </tr>\n",
              "    <tr>\n",
              "      <th>max</th>\n",
              "      <td>70.000000</td>\n",
              "      <td>200000.000000</td>\n",
              "      <td>1.000000</td>\n",
              "      <td>1.000000</td>\n",
              "      <td>600.000000</td>\n",
              "      <td>1.000000</td>\n",
              "      <td>1.000000</td>\n",
              "      <td>1.000000</td>\n",
              "    </tr>\n",
              "  </tbody>\n",
              "</table>\n",
              "</div>"
            ],
            "text/plain": [
              "              age         income      virgin  prostitution_legal     friends  \\\n",
              "count  469.000000     469.000000  469.000000          469.000000  469.000000   \n",
              "mean    23.963753   19946.695096    0.750533            0.230277    7.956716   \n",
              "std      6.023526   31671.260375    0.433167            0.421460   34.371500   \n",
              "min     12.000000       0.000000    0.000000            0.000000    0.000000   \n",
              "25%     20.000000       0.000000    1.000000            0.000000    1.000000   \n",
              "50%     23.000000    5000.000000    1.000000            0.000000    3.000000   \n",
              "75%     26.000000   25000.000000    1.000000            0.000000    7.000000   \n",
              "max     70.000000  200000.000000    1.000000            1.000000  600.000000   \n",
              "\n",
              "       social_fear   depressed  attempt_suicide  \n",
              "count   469.000000  469.000000       469.000000  \n",
              "mean      0.656716    0.665245         0.181237  \n",
              "std       0.475312    0.472409         0.385625  \n",
              "min       0.000000    0.000000         0.000000  \n",
              "25%       0.000000    0.000000         0.000000  \n",
              "50%       1.000000    1.000000         0.000000  \n",
              "75%       1.000000    1.000000         0.000000  \n",
              "max       1.000000    1.000000         1.000000  "
            ]
          },
          "metadata": {
            "tags": []
          },
          "execution_count": 186
        }
      ]
    },
    {
      "cell_type": "markdown",
      "metadata": {
        "id": "9-XZkaPS8AgJ",
        "colab_type": "text"
      },
      "source": [
        "Yearly income average of the users is ~\\$20000 and median income is just \\$5000; 75% of the users are still virgin; only 23% of the places where the respondents live, prostitution is legal; 66% thinks that they have social anxiety/phobia; 67% feels depressed and yet only 18% of them attempted suicide."
      ]
    },
    {
      "cell_type": "markdown",
      "metadata": {
        "id": "fmgpgmj48AgN",
        "colab_type": "text"
      },
      "source": [
        "### Correlation Plot"
      ]
    },
    {
      "cell_type": "code",
      "metadata": {
        "id": "mKRP4ec98AgP",
        "colab_type": "code",
        "colab": {},
        "outputId": "1a1f9433-b7b4-406a-c2c4-edb41ba26ab4"
      },
      "source": [
        "# Compute the correlation matrix\n",
        "corr = df_converted.corr()\n",
        "\n",
        "# Generate a mask for the upper triangle\n",
        "mask = np.zeros_like(corr, dtype=np.bool)\n",
        "mask[np.triu_indices_from(mask)] = True\n",
        "\n",
        "# Set up the matplotlib figure\n",
        "f, ax = plt.subplots(figsize=(11, 9))\n",
        "\n",
        "# Generate a custom diverging colormap\n",
        "cmap = sns.diverging_palette(220, 10, as_cmap=True)\n",
        "\n",
        "# Draw the heatmap with the mask and correct aspect ratio\n",
        "sns.heatmap(corr, mask=mask, cmap=cmap, vmax=.3, center=0,\n",
        "            square=True, linewidths=.5, cbar_kws={\"shrink\": .5})"
      ],
      "execution_count": 0,
      "outputs": [
        {
          "output_type": "execute_result",
          "data": {
            "text/plain": [
              "<matplotlib.axes._subplots.AxesSubplot at 0x30fe16a278>"
            ]
          },
          "metadata": {
            "tags": []
          },
          "execution_count": 187
        },
        {
          "output_type": "display_data",
          "data": {
            "image/png": "[encoded data removed]",
            "text/plain": [
              "<matplotlib.figure.Figure at 0x30fe13e828>"
            ]
          },
          "metadata": {
            "tags": []
          }
        }
      ]
    },
    {
      "cell_type": "markdown",
      "metadata": {
        "id": "ZXqHjnXq8Age",
        "colab_type": "text"
      },
      "source": [
        "Age is positively correlated with income and negatively correlated with virginity. As age increases people enhance in their careers and income level increases too; additionally they start mating and loose their virginity too. Suicide attempt is positively correllated  with depression and self-reported social anxiety mostly so we will focus on those three. Suicide attempt rate slightly negatively correlated with number of friend. As one's social circle enlarges, his/her depression level decreases."
      ]
    },
    {
      "cell_type": "markdown",
      "metadata": {
        "id": "RKvzEoOR8Agg",
        "colab_type": "text"
      },
      "source": [
        "### Suicide Attempt"
      ]
    },
    {
      "cell_type": "markdown",
      "metadata": {
        "id": "91Ig_Tgl8Agk",
        "colab_type": "text"
      },
      "source": [
        "To see much clearer picture of distribution, we can look at the pairwise plots according to every combination of the numerical columns"
      ]
    },
    {
      "cell_type": "code",
      "metadata": {
        "id": "5_hjlwkH8Ago",
        "colab_type": "code",
        "colab": {},
        "outputId": "758b28a0-4ede-49ba-dbc4-5e8ddedf0489"
      },
      "source": [
        "sns.pairplot(df,hue='attempt_suicide').set(alpha=0.3)"
      ],
      "execution_count": 0,
      "outputs": [
        {
          "output_type": "execute_result",
          "data": {
            "text/plain": [
              "<seaborn.axisgrid.PairGrid at 0x30fe203048>"
            ]
          },
          "metadata": {
            "tags": []
          },
          "execution_count": 188
        },
        {
          "output_type": "display_data",
          "data": {
            "image/png": "[encoded data removed]",
            "text/plain": [
              "<matplotlib.figure.Figure at 0x30fe2030b8>"
            ]
          },
          "metadata": {
            "tags": []
          }
        }
      ]
    },
    {
      "cell_type": "markdown",
      "metadata": {
        "id": "g2E3ILzh8Agv",
        "colab_type": "text"
      },
      "source": [
        "In the pair plots above, respondents who attempted suicide are colored with blue. Respondents who tried suicide are localized in younger ages (since age range of people who never attempted suicide is wider). Actually location of the \"Yes\" and \"No\" peaks do not differ much for both age and friend number but we can say that people with a friend number of fifty or above never attempted suicide. Since this is an self-assesment type survey, we lack the data of people who committed suicide succesfully. We could never know valuable information coming from those most miserable ones. "
      ]
    },
    {
      "cell_type": "code",
      "metadata": {
        "id": "-ON3UoFd8Agw",
        "colab_type": "code",
        "colab": {}
      },
      "source": [
        "#sns.pairplot(df_converted,hue='attempt_suicide')"
      ],
      "execution_count": 0,
      "outputs": []
    },
    {
      "cell_type": "markdown",
      "metadata": {
        "id": "w5TMuBQO8Ag0",
        "colab_type": "text"
      },
      "source": [
        "Other than age and number of friends, pairwise plots of other converted numerical values did not seperated subredditters due to suicide tendency so we excluded them in our analysis."
      ]
    },
    {
      "cell_type": "markdown",
      "metadata": {
        "id": "Qcxojsml8Ag3",
        "colab_type": "text"
      },
      "source": [
        "### Depression"
      ]
    },
    {
      "cell_type": "code",
      "metadata": {
        "id": "Rny60mcV8Ag4",
        "colab_type": "code",
        "colab": {},
        "outputId": "bb8e6c8e-3a0a-43a1-ca57-8e5a2cc7c974"
      },
      "source": [
        "sns.pairplot(df,hue='depressed',diag_kind=\"kde\")"
      ],
      "execution_count": 0,
      "outputs": [
        {
          "output_type": "execute_result",
          "data": {
            "text/plain": [
              "<seaborn.axisgrid.PairGrid at 0x30fe41cbe0>"
            ]
          },
          "metadata": {
            "tags": []
          },
          "execution_count": 190
        },
        {
          "output_type": "display_data",
          "data": {
            "image/png": "[encoded data removed]",
            "text/plain": [
              "<matplotlib.figure.Figure at 0x30f50b94e0>"
            ]
          },
          "metadata": {
            "tags": []
          }
        }
      ]
    },
    {
      "cell_type": "markdown",
      "metadata": {
        "id": "3TFYuMG-8AhI",
        "colab_type": "text"
      },
      "source": [
        "When we look at the number of friends vs. age plot, respondents who feel depressed between 20 and 30 years old, actually have some amount of friends in reall life. However, older respondents who have small number of friends tend to feel depressed. So, we can conclude that number of friends in real life is a factor effecting one's level of depression if he/she is old."
      ]
    },
    {
      "cell_type": "code",
      "metadata": {
        "id": "38lHz8KI8AhJ",
        "colab_type": "code",
        "colab": {},
        "outputId": "fcdcfe22-8e99-4c0a-8043-41ce5867850b"
      },
      "source": [
        "sns.violinplot(df.age, df.depressed ,hue='attempt_suicide', data=df, split=True)"
      ],
      "execution_count": 0,
      "outputs": [
        {
          "output_type": "execute_result",
          "data": {
            "text/plain": [
              "<matplotlib.axes._subplots.AxesSubplot at 0x30f7c721d0>"
            ]
          },
          "metadata": {
            "tags": []
          },
          "execution_count": 191
        },
        {
          "output_type": "display_data",
          "data": {
            "image/png": "[encoded data removed]",
            "text/plain": [
              "<matplotlib.figure.Figure at 0x30f7bf3e10>"
            ]
          },
          "metadata": {
            "tags": []
          }
        }
      ]
    },
    {
      "cell_type": "markdown",
      "metadata": {
        "id": "wC7M2ruG8AhN",
        "colab_type": "text"
      },
      "source": [
        "According to the distribution above young loonely redditers no need to feel depressed to be suicidal. Non-depressed ones with suicidal tendency are slightly older in age. Right tail of the non-depressed and suicidal distribution is fatter so depression is not a major factor to effect older people's suicidal thoughts."
      ]
    },
    {
      "cell_type": "markdown",
      "metadata": {
        "id": "_mGZy9LY8AhQ",
        "colab_type": "text"
      },
      "source": [
        "### Social Anxiety/Phobia"
      ]
    },
    {
      "cell_type": "code",
      "metadata": {
        "id": "EzwGTmv-8AhS",
        "colab_type": "code",
        "colab": {},
        "outputId": "d47e8d85-d574-4f9a-8b85-512e3697ad7e"
      },
      "source": [
        "sns.pairplot(df,hue='social_fear',diag_kind=\"kde\")"
      ],
      "execution_count": 0,
      "outputs": [
        {
          "output_type": "execute_result",
          "data": {
            "text/plain": [
              "<seaborn.axisgrid.PairGrid at 0x30f716ab38>"
            ]
          },
          "metadata": {
            "tags": []
          },
          "execution_count": 192
        },
        {
          "output_type": "display_data",
          "data": {
            "image/png": "[encoded data removed]",
            "text/plain": [
              "<matplotlib.figure.Figure at 0x30f7261048>"
            ]
          },
          "metadata": {
            "tags": []
          }
        }
      ]
    },
    {
      "cell_type": "markdown",
      "metadata": {
        "id": "AU4gDwPJ8AhY",
        "colab_type": "text"
      },
      "source": [
        "From the last plot we can deduce that social anxiety increases as one is socially isolated or anxiety is high in socially isolated respondents since the peak of \"Yes\" is sharper."
      ]
    },
    {
      "cell_type": "code",
      "metadata": {
        "id": "rcyY1aY38Aha",
        "colab_type": "code",
        "colab": {},
        "outputId": "2c884430-1373-4ac0-c0fd-8a5ab9d770c6"
      },
      "source": [
        "sns.violinplot(df.age, df.social_fear ,hue='attempt_suicide', data=df, split=True)"
      ],
      "execution_count": 0,
      "outputs": [
        {
          "output_type": "execute_result",
          "data": {
            "text/plain": [
              "<matplotlib.axes._subplots.AxesSubplot at 0x30fd84d320>"
            ]
          },
          "metadata": {
            "tags": []
          },
          "execution_count": 193
        },
        {
          "output_type": "display_data",
          "data": {
            "image/png": "[encoded data removed]",
            "text/plain": [
              "<matplotlib.figure.Figure at 0x30f72b0668>"
            ]
          },
          "metadata": {
            "tags": []
          }
        }
      ]
    },
    {
      "cell_type": "markdown",
      "metadata": {
        "id": "MDmTvtP98Ahe",
        "colab_type": "text"
      },
      "source": [
        "Age distribution of suicide attempters and non-attempters is plotted for both the ones with and without social anxiety is distributed. The age peak of suicidal redditer without social anxiet is slightly lower than the suicidal ones with some level of social fear. The small bumps in the right tail of blue graph are coming from the relatively older users whose age is in the neighborhood of 40. The rihght tail (older users) is fatter in the graph above but we cannot claim that social anxiety is and important factor determining one's suicidal tendency."
      ]
    },
    {
      "cell_type": "markdown",
      "metadata": {
        "id": "cBdDKQfe8Ahf",
        "colab_type": "text"
      },
      "source": [
        "### Depression - Body Weight Relation"
      ]
    },
    {
      "cell_type": "markdown",
      "metadata": {
        "id": "eZ49Yxzx8Ahh",
        "colab_type": "text"
      },
      "source": [
        "To focus on depressed redditers more, we filtered the data set."
      ]
    },
    {
      "cell_type": "code",
      "metadata": {
        "id": "pjPDgN7Q8Ahj",
        "colab_type": "code",
        "colab": {},
        "outputId": "76ec354b-c31f-496b-bd91-48ed0059b07c"
      },
      "source": [
        "g = sns.FacetGrid(df[df.depressed==\"Yes\"], col='bodyweight')\n",
        ">>> g = (g.map(plt.scatter, \"age\", \"friends\", edgecolor=\"w\")\n",
        "...       .add_legend())"
      ],
      "execution_count": 0,
      "outputs": [
        {
          "output_type": "display_data",
          "data": {
            "image/png": "[encoded data removed]",
            "text/plain": [
              "<matplotlib.figure.Figure at 0x30f76e4f60>"
            ]
          },
          "metadata": {
            "tags": []
          }
        }
      ]
    },
    {
      "cell_type": "markdown",
      "metadata": {
        "id": "VSB7HXup8Ahq",
        "colab_type": "text"
      },
      "source": [
        "Two extreems, underweight and obese people are small in number. If a depressed redditer is obese, he/she is also unlucky in number of friends. However, his/her underweight counterpart could have 0-15 friends IRL. May be society discriminates obese people more and this might make their depression bitter. Among all of the the weight groups above, depressed redditers with normal weight is luck in number of friends. They may still feel lonely but they have a wider span of friends when compared to others. However, age range is also wider in this group, then follows the overwieght depressed loosers."
      ]
    },
    {
      "cell_type": "markdown",
      "metadata": {
        "id": "gjJYaGCv8Ahr",
        "colab_type": "text"
      },
      "source": [
        "### Sucide Attempt - Income Relation"
      ]
    },
    {
      "cell_type": "markdown",
      "metadata": {
        "id": "Aw2DFE-k8Ahr",
        "colab_type": "text"
      },
      "source": [
        "The data plotted below is filtered to suicidal subredditers."
      ]
    },
    {
      "cell_type": "code",
      "metadata": {
        "id": "iYvEhdb58Ahs",
        "colab_type": "code",
        "colab": {},
        "outputId": "c7fb0f6f-8881-40a5-e30b-f4ed6b70f857"
      },
      "source": [
        "g = sns.FacetGrid(df, col='income')\n",
        ">>> g = (g.map(plt.hist,  \"friends\", edgecolor=\"w\")\n",
        "...       .add_legend())"
      ],
      "execution_count": 0,
      "outputs": [
        {
          "output_type": "display_data",
          "data": {
            "image/png": "[encoded data removed]",
            "text/plain": [
              "<matplotlib.figure.Figure at 0x30f6f84f28>"
            ]
          },
          "metadata": {
            "tags": []
          }
        }
      ]
    },
    {
      "cell_type": "markdown",
      "metadata": {
        "id": "_BJaEKjy8Ahw",
        "colab_type": "text"
      },
      "source": [
        "Large portion of suicidal /r/ForeverAlone is localized in the no (0\\$) or very low income (1-10000\\$) categories. It's no surprise that people with financial crisis tend to be more suicidal. Average number of friends is also smaller than ten for those guys."
      ]
    },
    {
      "cell_type": "markdown",
      "metadata": {
        "id": "8huJfBGw8Ahx",
        "colab_type": "text"
      },
      "source": [
        "## Conclusions\n",
        "\n",
        "Suicide attempt is positively correllated with depression and self-reported social anxiety with a correlation coefficient ~.30. People with relatively large number of friends IRL never attempted to commit suicide in their life. The data set that we studied is composed of young people, respondents who are above median age value tend to have small sociall circle and feel depressed. However, young respondents still feel depressed even if number of friends are higher. Non-depressed older subredditters can still be suicidal. Social anxiety is high in socially isolated ones (since they might be avoiding crowds). No one wants to be friends with obese depressed subredditters but the other exreme is more tolarated by the society. Suicidal subredditers have zero or very low income.\n",
        "\n",
        "In conclusion being depressed or not and anxiety are the most important factors determining ones tendency to commit suicide. Suicide attempters have different levels of depression or axiety depending on their age and number of friends. Mosty probably they form different clusters. kMeans algorithm can be employed to find subgroups of the suicidal lonely redditers. As a future work, logistic regression can be used to predict subredditters suicidal tendency. "
      ]
    },
    {
      "cell_type": "markdown",
      "metadata": {
        "id": "rUz6qozO8Ahy",
        "colab_type": "text"
      },
      "source": [
        "## References\n",
        "\n",
        "+ [/r/ForeverAlone Subreddit](\"https://www.reddit.com/r/ForeverAlone/\")\n",
        "+ [The Demographic /r/ForeverAlone Dataset](\"https://www.kaggle.com/kingburrito666/the-demographic-rforeveralone-dataset/downloads/foreveralone.csv\")\n",
        "+ [Forever Alone Definition](\"https://www.urbandictionary.com/define.php?term=Forever%20Alone\")\n",
        "+ [seaborn: statistical data visualization](https://seaborn.pydata.org/)\n",
        "+ [The Python Graph Gallery, Seaborn](https://python-graph-gallery.com/seaborn/)\n",
        "+ [Plotting a diagonal correlation matrix](https://seaborn.pydata.org/examples/many_pairwise_correlations.html)\n",
        "+ [The Loneliest users on Reddit](https://www.kaggle.com/kingburrito666/the-loneliest-users-on-reddit)\n",
        "+ [Young age problem](https://www.kaggle.com/sebik777/young-age-problem)"
      ]
    }
  ]
}